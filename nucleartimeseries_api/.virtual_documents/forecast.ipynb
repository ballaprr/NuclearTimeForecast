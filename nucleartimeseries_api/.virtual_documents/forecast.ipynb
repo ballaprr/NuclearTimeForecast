import os
import django
import pandas as pd
import matplotlib.pyplot as plt
from threading import Thread
from queue import Queue

os.environ.setdefault("DJANGO_SETTINGS_MODULE", "nucleartimeseries_api.settings")
django.setup()

from nrc_data.models import ReactorStatus

# Threaded function to fetch data
def get_data_thread(q):
    qs = ReactorStatus.objects.filter(unit__icontains="Columbia Generating Station").order_by('report_date')
    q.put(list(qs.values("report_date", "power")))

# Use thread to execute ORM
q = Queue()
t = Thread(target=get_data_thread, args=(q,))
t.start()
t.join()
data = q.get()

# Plot
df = pd.DataFrame(data)
plt.figure(figsize=(14, 6))
plt.plot(df["report_date"], df["power"], marker="o", linestyle="-", linewidth=1)
plt.title("Columbia Generating Station Power Output Over Time")
plt.xlabel("Date")
plt.ylabel("Power (%)")
plt.grid(True)
plt.tight_layout()
plt.show()



import plotly.express as px

# Convert to DataFrame (already done above)
df = pd.DataFrame(data)

# Plot with Plotly
fig = px.line(
    df,
    x="report_date",
    y="power",
    title="Columbia Generating Station Power Output Over Time"
)

# Add zoom and horizontal scroll
fig.update_layout(
    xaxis=dict(
        rangeslider=dict(visible=True),
        type="date"
    ),
    yaxis_title="Power (%)",
    xaxis_title="Date"
)

fig.show()



from prophet import Prophet
import pandas as pd
import plotly.graph_objects as go

# Convert to DataFrame
df = pd.DataFrame(data)

# Rename for Prophet
df_prophet = df.rename(columns={
    "report_date": "ds",
    "power": "y"
})

# STEP 1: Identify refueling outages (power == 0, optional 'reason' if available)
# If you have a 'reason' field with "refueling", use that instead.
refuel_days = df_prophet[df_prophet["y"] == 0]

# STEP 2: Create holidays DataFrame
holidays = pd.DataFrame({
    "holiday": "refueling_outage",
    "ds": refuel_days["ds"],
    "lower_window": 0,
    "upper_window": 5  # assume outages may affect 5 days around the drop
})

# STEP 3: Initialize Prophet with holidays
model = Prophet(
    daily_seasonality=False,
    yearly_seasonality=True,
    weekly_seasonality=False,
    changepoint_prior_scale=0.5,
    holidays=holidays
)

model.add_seasonality(name='monthly', period=30.5, fourier_order=5)


# STEP 4: Fit model
model.fit(df_prophet)

# STEP 5: Forecast
future = model.make_future_dataframe(periods=30)
forecast = model.predict(future)



fig = go.Figure()

fig.add_trace(go.Scatter(x=df_prophet['ds'], y=df_prophet['y'], mode='lines', name='Actual Power Output'))
fig.add_trace(go.Scatter(x=forecast['ds'], y=forecast['yhat'], mode='lines', name='Forecasted Power Output'))

fig.add_trace(go.Scatter(x=forecast['ds'], y=forecast['yhat_upper'], mode='lines', line=dict(width=0), name='Upper Bound', showlegend=False))
fig.add_trace(go.Scatter(x=forecast['ds'], y=forecast['yhat_lower'], mode='lines', fill='tonexty', line=dict(width=1), name='Lower Bound', showlegend=False))


fig.update_layout(
    title="Columbia Generating Station Power Forecast",
    xaxis_title="Date",
    yaxis_title="Power (%)",
    xaxis=dict(rangeslider=dict(visible=True), type="date"),
    template="plotly_white"
)

fig.show()


from prophet.diagnostics import cross_validation, performance_metrics

df_cv = cross_validation(model, initial='1095 days', period='180 days', horizon='365 days')
df_p = performance_metrics(df_cv)
print(df_p.head())


model.plot_components(forecast)



future = model.make_future_dataframe(periods=30)
future



print(forecast[['ds']].tail())
print("Latest date in original data:", df_prophet['ds'].max())



latest_date = pd.to_datetime('2025-07-03')
next_day = latest_date + pd.Timedelta(days=1)
next_day_forecast = forecast[forecast['ds'] == next_day]
print(next_day_forecast[['ds', 'yhat', 'yhat_lower', 'yhat_upper']])






import os
import django
import pandas as pd
import matplotlib.pyplot as plt
import plotly.express as px
import plotly.graph_objects as go
from prophet import Prophet
from prophet.diagnostics import cross_validation, performance_metrics
from threading import Thread
from queue import Queue

# Setup Django environment
os.environ.setdefault("DJANGO_SETTINGS_MODULE", "nucleartimeseries_api.settings")
django.setup()

from nrc_data.models import ReactorStatus

# Fetch data using a thread
def get_data_thread(q):
    qs = ReactorStatus.objects.filter(unit__icontains="Columbia Generating Station").order_by("report_date")
    q.put(list(qs.values("report_date", "power")))

q = Queue()
t = Thread(target=get_data_thread, args=(q,))
t.start()
t.join()
data = q.get()

# Convert to DataFrame
df = pd.DataFrame(data)
df_prophet = df.rename(columns={"report_date": "ds", "power": "y"})

# Plot original time series
fig = px.line(df, x="report_date", y="power", title="Columbia Generating Station Power Output Over Time")
fig.update_layout(xaxis=dict(rangeslider=dict(visible=True), type="date"), yaxis_title="Power (%)", xaxis_title="Date")
fig.show()

# Refueling outages
refuel_days = df_prophet[df_prophet["y"] == 0]
holidays = pd.DataFrame({
    "holiday": "refueling_outage",
    "ds": refuel_days["ds"],
    "lower_window": 0,
    "upper_window": 5
})

# Prophet model setup
model = Prophet(
    daily_seasonality=False,
    yearly_seasonality=True,
    weekly_seasonality=False,
    changepoint_prior_scale=0.5,
    holidays=holidays
)
model.add_seasonality(name="monthly", period=30.5, fourier_order=5)
model.fit(df_prophet)

# Predict next 30 days
future = model.make_future_dataframe(periods=30)
forecast = model.predict(future)

# Forecast vs actual
fig = go.Figure()
fig.add_trace(go.Scatter(x=df_prophet['ds'], y=df_prophet['y'], mode='lines', name='Actual Power Output'))
fig.add_trace(go.Scatter(x=forecast['ds'], y=forecast['yhat'], mode='lines', name='Forecasted Power Output'))
fig.add_trace(go.Scatter(x=forecast['ds'], y=forecast['yhat_upper'], mode='lines', line=dict(width=0), name='Upper Bound', showlegend=False))
fig.add_trace(go.Scatter(x=forecast['ds'], y=forecast['yhat_lower'], mode='lines', fill='tonexty', line=dict(width=1), name='Lower Bound', showlegend=False))
fig.update_layout(title="Columbia Generating Station Power Forecast", xaxis_title="Date", yaxis_title="Power (%)", template="plotly_white")
fig.show()

# 30-day forecast only
latest_ds = pd.to_datetime(df_prophet['ds'].max())
forecast_only = forecast[forecast['ds'] > latest_ds]
fig_30 = px.line(forecast_only, x='ds', y='yhat', title='Next 30-Day Power Forecast')
fig_30.update_layout(xaxis_title="Date", yaxis_title="Forecasted Power (%)")
fig_30.show()

# Optional: model diagnostics
df_cv = cross_validation(model, initial='1095 days', period='180 days', horizon='365 days')
df_p = performance_metrics(df_cv)
print(df_p.head())

# Component plots (trend + seasonal)
model.plot_components(forecast)



import os
import django
import pandas as pd
from threading import Thread
from queue import Queue
from prophet import Prophet
import plotly.graph_objects as go
from prophet.diagnostics import cross_validation, performance_metrics
from datetime import timedelta

# Django setup
os.environ.setdefault("DJANGO_SETTINGS_MODULE", "nucleartimeseries_api.settings")
django.setup()

from nrc_data.models import ReactorStatus

# Fetch data from DB
def get_data_thread(q):
    qs = ReactorStatus.objects.filter(unit__icontains="Columbia Generating Station").order_by('report_date')
    q.put(list(qs.values("report_date", "power")))

q = Queue()
t = Thread(target=get_data_thread, args=(q,))
t.start()
t.join()
data = q.get()

# Prepare DataFrame
df = pd.DataFrame(data)
df_prophet = df.rename(columns={"report_date": "ds", "power": "y"})

# Identify refueling outages
refuel_days = df_prophet[df_prophet["y"] == 0]
holidays = pd.DataFrame({
    "holiday": "refueling_outage",
    "ds": refuel_days["ds"],
    "lower_window": 0,
    "upper_window": 5
})

# Train model
model = Prophet(
    daily_seasonality=False,
    yearly_seasonality=True,
    weekly_seasonality=False,
    changepoint_prior_scale=0.5,
    holidays=holidays
)
model.add_seasonality(name='monthly', period=30.5, fourier_order=5)
model.fit(df_prophet)

# Forecast
future = model.make_future_dataframe(periods=30)
forecast = model.predict(future)

print("Evaluating model accuracy...")
df_cv = cross_validation(model, initial='1095 days', period='180 days', horizon='365 days')
df_metrics = performance_metrics(df_cv)
print(df_metrics.columns)
print(df_metrics[['horizon', 'mae', 'rmse', 'mdape']].head())


# Keep only the 30-day forecast portion
latest_date = pd.to_datetime(df_prophet['ds'].max())
forecast_30 = forecast[forecast['ds'] > latest_date]

latest_actual_date = df_prophet['ds'].max()

next_day = pd.to_datetime(latest_actual_date + timedelta(days=1))
thirtieth_day = pd.to_datetime(latest_actual_date + timedelta(days=30))

next_day_forecast = forecast[forecast['ds'] == next_day]
day30_forecast = forecast[forecast['ds'] == thirtieth_day]

print("\n📅 Next Day Forecast:")
print(next_day_forecast[['ds', 'yhat', 'yhat_lower', 'yhat_upper']])
print("\n📅 30th Day Forecast:")
print(day30_forecast[['ds', 'yhat', 'yhat_lower', 'yhat_upper']])

# Plot: Actual and 30-Day Forecast
fig = go.Figure()

# Actual data
fig.add_trace(go.Scatter(x=df_prophet['ds'], y=df_prophet['y'], mode='lines', name='Actual Power Output'))

# Forecasted data
fig.add_trace(go.Scatter(x=forecast_30['ds'], y=forecast_30['yhat'], mode='lines', name='Forecasted Power Output'))

# Confidence interval
fig.add_trace(go.Scatter(x=forecast_30['ds'], y=forecast_30['yhat_upper'], mode='lines', line=dict(width=0), showlegend=False))
fig.add_trace(go.Scatter(x=forecast_30['ds'], y=forecast_30['yhat_lower'], mode='lines', fill='tonexty', line=dict(width=1), showlegend=False))

fig.update_layout(
    title="Columbia Generating Station – Next 30 Day Forecast vs Actual",
    xaxis_title="Date",
    yaxis_title="Power (%)",
    xaxis=dict(rangeslider=dict(visible=True), type="date"),
    template="plotly_white"
)

fig.write_image('fig1.png', engine='orca')

fig.show()






import plotly.io as pio
fig.write_image('fig1.png', engine='orca')


next_day = latest_date + pd.Timedelta(days=1)
predicted = forecast[forecast['ds'] == next_day].iloc[0]
print(predicted)

actual_entry = ReactorStatus.objects.filter(unit='Columbia Generating Station', report_date=next_day).first()
print(actual_entry)

if actual_entry and actual_entry.power is not None:
    if actual_entry.power < predicted['yhat'] * 0.7:
        StubOutage.objects.get_or_create(
            reactor=reactor,
            date_detected=next_day,
            defaults={
                "description": "Auto-detected stub outage",
                "auto_detected": True
            }
        )

if actual_entry.power >= predicted['yhat'] * 0.9:
    StubOutage.objects.filter(
        reactor=reactor, date_detected=next_day, auto_detected=True
    ).delete()


# Django setup
os.environ.setdefault("DJANGO_SETTINGS_MODULE", "nucleartimeseries_api.settings")
django.setup()

from nrc_data.models import ReactorStatus

# Fetch data from DB
def get_data_thread(q):
    qs = ReactorStatus.objects.filter(unit__icontains="Arkansas Nuclear 1").order_by('report_date')
    q.put(list(qs.values("report_date", "power")))

q = Queue()
t = Thread(target=get_data_thread, args=(q,))
t.start()
t.join()
data = q.get()

# Prepare DataFrame
df = pd.DataFrame(data)
df_prophet = df.rename(columns={"report_date": "ds", "power": "y"})

# Identify refueling outages
refuel_days = df_prophet[df_prophet["y"] == 0]
holidays = pd.DataFrame({
    "holiday": "refueling_outage",
    "ds": refuel_days["ds"],
    "lower_window": 0,
    "upper_window": 5
})

# Train model
model = Prophet(
    daily_seasonality=False,
    yearly_seasonality=True,
    weekly_seasonality=False,
    changepoint_prior_scale=0.5,
    holidays=holidays
)
model.add_seasonality(name='monthly', period=30.5, fourier_order=5)
model.fit(df_prophet)

# Forecast
future = model.make_future_dataframe(periods=30)
forecast = model.predict(future)

# Keep only the 30-day forecast portion
latest_date = pd.to_datetime(df_prophet['ds'].max())
forecast_30 = forecast[forecast['ds'] > latest_date]

# Plot: Actual and 30-Day Forecast
fig = go.Figure()

# Actual data
fig.add_trace(go.Scatter(x=df_prophet['ds'], y=df_prophet['y'], mode='lines', name='Actual Power Output'))

# Forecasted data
fig.add_trace(go.Scatter(x=forecast_30['ds'], y=forecast_30['yhat'], mode='lines', name='Forecasted Power Output'))

# Confidence interval
fig.add_trace(go.Scatter(x=forecast_30['ds'], y=forecast_30['yhat_upper'], mode='lines', line=dict(width=0), showlegend=False))
fig.add_trace(go.Scatter(x=forecast_30['ds'], y=forecast_30['yhat_lower'], mode='lines', fill='tonexty', line=dict(width=1), showlegend=False))

fig.update_layout(
    title="Arkansas Nuclear 1 – Next 30 Day Forecast vs Actual",
    xaxis_title="Date",
    yaxis_title="Power (%)",
    xaxis=dict(rangeslider=dict(visible=True), type="date"),
    template="plotly_white"
)

fig.show()



